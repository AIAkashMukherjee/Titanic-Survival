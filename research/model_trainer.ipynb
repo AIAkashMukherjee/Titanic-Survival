{
 "cells": [
  {
   "cell_type": "code",
   "execution_count": 1,
   "metadata": {},
   "outputs": [],
   "source": [
    "import os\n",
    "os.chdir(\"../\")"
   ]
  },
  {
   "cell_type": "code",
   "execution_count": 10,
   "metadata": {},
   "outputs": [],
   "source": [
    "from dataclasses import dataclass\n",
    "from pathlib import Path\n",
    "import pandas as pd\n",
    "import os,sys\n",
    "from src.logger.custom_logging import logger\n",
    "from sklearn.ensemble import RandomForestClassifier\n",
    "import joblib\n",
    "from src.exceptions.expection import CustomException\n",
    "from sklearn.metrics import accuracy_score\n",
    "\n",
    "\n",
    "\n",
    "@dataclass(frozen=True)\n",
    "class ModelTrainerConfig:\n",
    "    root_dir: Path\n",
    "    train_model_path: Path\n",
    "    training_data_path: Path\n",
    "    testing_data_path: Path\n",
    "    "
   ]
  },
  {
   "cell_type": "code",
   "execution_count": 11,
   "metadata": {},
   "outputs": [],
   "source": [
    "\n",
    "from src.utils.utlis import read_yaml,create_directories\n",
    "from src.constants import *"
   ]
  },
  {
   "cell_type": "code",
   "execution_count": 12,
   "metadata": {},
   "outputs": [],
   "source": [
    "class ConfigManager:\n",
    "    def __init__(self,\n",
    "                  config_filepath = CONFIG_FILE_PATH,\n",
    "                params_filepath = PARAMS_FILE_PATH\n",
    "  ):\n",
    "        self.config=read_yaml(config_filepath)\n",
    "        self.params=read_yaml(params_filepath)\n",
    "\n",
    "\n",
    "        create_directories([self.config.artifacts_root])\n",
    "\n",
    "\n",
    "    def get_model_trainer_config(self)-> ModelTrainerConfig:\n",
    "        config=self.config.model_trainer\n",
    "        create_directories([config.root_dir])\n",
    "\n",
    "        model_trainer_config = ModelTrainerConfig(\n",
    "            root_dir=config.root_dir,\n",
    "            train_model_path=config.train_model_path,\n",
    "            training_data_path=config.training_data_path,\n",
    "            testing_data_path=config.testing_data_path\n",
    "    \n",
    "\n",
    "        )    \n",
    "        return model_trainer_config"
   ]
  },
  {
   "cell_type": "code",
   "execution_count": 13,
   "metadata": {},
   "outputs": [],
   "source": [
    "class ModelTrainer:\n",
    "    def __init__(self, config: ModelTrainerConfig):\n",
    "        self.config = config\n",
    "\n",
    "    @staticmethod\n",
    "    def save_model(path: Path, model):\n",
    "        \"\"\"Save the trained model to the specified path.\"\"\"\n",
    "        try:\n",
    "            joblib.dump(model, path)\n",
    "            print(f\"Model saved at {path}\")\n",
    "        except Exception as e:\n",
    "            print(f\"Error saving model: {e}\")\n",
    "            logger.error(f\"Error saving model: {e}\")\n",
    "            raise CustomException(e, sys)      \n",
    "\n",
    "\n",
    "    \n",
    "    def train(self):\n",
    "        train_data=pd.read_csv(self.config.training_data_path)\n",
    "        test_data=pd.read_csv(self.config.testing_data_path)\n",
    "        try:\n",
    "            X_train = train_data.iloc[:, :-1].values\n",
    "            y_train = train_data.iloc[:, -1].values\n",
    "            X_test = test_data.iloc[:, :-1].values\n",
    "            y_test = test_data.iloc[:, -1].values   \n",
    "\n",
    "            model = RandomForestClassifier()\n",
    "            \n",
    "            model.fit(X_train, y_train)\n",
    "            y_pred = model.predict(X_test)\n",
    "            \n",
    "            test_model_score = accuracy_score(y_test, y_pred)\n",
    "\n",
    "            print(f\"Test model score: {test_model_score}\")\n",
    "\n",
    "            # Save the best model\n",
    "            self.save_model(path=self.config.train_model_path,model=model)\n",
    "        except Exception as e:\n",
    "            logger.error(f'Error occurred: {e}')\n",
    "            raise CustomException(e, sys)"
   ]
  },
  {
   "cell_type": "code",
   "execution_count": 14,
   "metadata": {},
   "outputs": [
    {
     "name": "stdout",
     "output_type": "stream",
     "text": [
      "Test model score: 1.0\n",
      "Model saved at artifacts/model_trainer/model.pkl\n"
     ]
    }
   ],
   "source": [
    "try:\n",
    "    config=ConfigManager()\n",
    "    model_trainer_config=config.get_model_trainer_config()\n",
    "    model_trainer=ModelTrainer(model_trainer_config)\n",
    "    model_trainer.train()\n",
    "\n",
    "except Exception as e:\n",
    "    raise CustomException(e,sys)"
   ]
  },
  {
   "cell_type": "code",
   "execution_count": null,
   "metadata": {},
   "outputs": [],
   "source": []
  }
 ],
 "metadata": {
  "kernelspec": {
   "display_name": "my_Env",
   "language": "python",
   "name": "python3"
  },
  "language_info": {
   "codemirror_mode": {
    "name": "ipython",
    "version": 3
   },
   "file_extension": ".py",
   "mimetype": "text/x-python",
   "name": "python",
   "nbconvert_exporter": "python",
   "pygments_lexer": "ipython3",
   "version": "3.11.0"
  }
 },
 "nbformat": 4,
 "nbformat_minor": 2
}
