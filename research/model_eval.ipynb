{
 "cells": [
  {
   "cell_type": "code",
   "execution_count": 16,
   "metadata": {},
   "outputs": [],
   "source": [
    "import os\n",
    "os.chdir('../')"
   ]
  },
  {
   "cell_type": "code",
   "execution_count": 17,
   "metadata": {},
   "outputs": [],
   "source": [
    "\n",
    "import mlflow\n",
    "import joblib\n",
    "from src.utils.utlis import *\n",
    "from src.constants import *\n",
    "from sklearn.metrics import accuracy_score\n",
    "import pandas as pd\n",
    "from mlflow.models.signature import infer_signature"
   ]
  },
  {
   "cell_type": "code",
   "execution_count": 18,
   "metadata": {},
   "outputs": [],
   "source": [
    "\n",
    "model=joblib.load('artifacts/model_trainer/model.pkl')"
   ]
  },
  {
   "cell_type": "code",
   "execution_count": 28,
   "metadata": {},
   "outputs": [],
   "source": [
    "from dataclasses import dataclass\n",
    "from pathlib import Path\n",
    "from dotenv import load_dotenv\n",
    "load_dotenv()\n",
    "\n",
    "@dataclass(frozen=True)\n",
    "class EvaluationConfig:\n",
    "    root_dir: Path\n",
    "    model_path:Path\n",
    "    test_data:Path\n",
    "    mlflow_uri: str"
   ]
  },
  {
   "cell_type": "code",
   "execution_count": 32,
   "metadata": {},
   "outputs": [],
   "source": [
    "class ConfigurationManager:\n",
    "    def __init__(\n",
    "        self,\n",
    "        config_filepath = CONFIG_FILE_PATH,\n",
    "        params_filepath = PARAMS_FILE_PATH):\n",
    "\n",
    "        self.config = read_yaml(config_filepath)\n",
    "        self.params = read_yaml(params_filepath)\n",
    "\n",
    "        create_directories([self.config.artifacts_root])\n",
    "\n",
    "    def eval_config(self):\n",
    "        config = self.config.model_evaluation\n",
    "        create_directories([config.root_dir])\n",
    "        eval_confg=EvaluationConfig(\n",
    "            root_dir=config.root_dir,\n",
    "            model_path=\"artifacts/model_trainer/model.pkl\",\n",
    "            test_data=\"artifacts/data_transformation/final_test.csv\",\n",
    "            mlflow_uri=os.getenv('MLFLOW_TRACKING_URI')\n",
    "           \n",
    "        )    \n",
    "        return eval_confg"
   ]
  },
  {
   "cell_type": "code",
   "execution_count": 33,
   "metadata": {},
   "outputs": [],
   "source": [
    "class ModelEvaluation:\n",
    "    def __init__(self,config:EvaluationConfig):\n",
    "        self.config=config\n",
    "        self.scores={}\n",
    "\n",
    "    def save_score(self):\n",
    "        \n",
    "        save_json(path=Path(\"artifacts/model_evaluation/metrics.json\"), data=self.scores) \n",
    "\n",
    "    def evaluate_model(self):\n",
    "            # train_data=pd.read_csv(self.config.training_data_path)\n",
    "            test_data=pd.read_csv(self.config.test_data)\n",
    "            X_test = test_data.iloc[:, :-1].values\n",
    "            y_test = test_data.iloc[:, -1].values   \n",
    "\n",
    "            model=joblib.load(self.config.model_path)\n",
    "            y_pred=model.predict(X_test)\n",
    "\n",
    "            acc = accuracy_score(y_test, y_pred)\n",
    "            self.scores[\"Accuracy Score\"] = acc\n",
    "            return model\n",
    "\n",
    "    def log_with_mlflow(self,model):\n",
    "        mlflow.set_tracking_uri(self.config.mlflow_uri)\n",
    "        with mlflow.start_run():\n",
    "            mlflow.log_param(\"Model Path\", self.config.model_path)\n",
    "            mlflow.log_metric(\"Accuracy Score\", self.scores[\"Accuracy Score\"])\n",
    "\n",
    "            mlflow.sklearn.log_model(model, \"random_forest_model\")\n",
    "\n",
    "    def evaluation(self):\n",
    "        model = self.evaluate_model()\n",
    "\n",
    "        # Save scores locally\n",
    "        self.save_score()\n",
    "\n",
    "        # Log evaluation with MLflow\n",
    "        self.log_with_mlflow(model)\n",
    "            "
   ]
  },
  {
   "cell_type": "code",
   "execution_count": 34,
   "metadata": {},
   "outputs": [
    {
     "name": "stderr",
     "output_type": "stream",
     "text": [
      "\u001b[31m2024/12/25 17:04:28 WARNING mlflow.models.model: Model logged without a signature and input example. Please set `input_example` parameter when logging the model to auto infer the model signature.\u001b[0m\n"
     ]
    },
    {
     "name": "stdout",
     "output_type": "stream",
     "text": [
      "🏃 View run fun-fish-472 at: https://dagshub.com/AIAkashMukherjee/Titanic-Survival.mlflow/#/experiments/0/runs/229b9fbfa045473296dbf491a45101f2\n",
      "🧪 View experiment at: https://dagshub.com/AIAkashMukherjee/Titanic-Survival.mlflow/#/experiments/0\n"
     ]
    }
   ],
   "source": [
    "try:\n",
    "    config = ConfigurationManager()\n",
    "    eval_config = config.eval_config()\n",
    "    evaluation = ModelEvaluation(eval_config)\n",
    "    evaluation.evaluation()\n",
    "\n",
    "except Exception as e:\n",
    "   raise e"
   ]
  },
  {
   "cell_type": "code",
   "execution_count": null,
   "metadata": {},
   "outputs": [],
   "source": []
  }
 ],
 "metadata": {
  "kernelspec": {
   "display_name": "my_Env",
   "language": "python",
   "name": "python3"
  },
  "language_info": {
   "codemirror_mode": {
    "name": "ipython",
    "version": 3
   },
   "file_extension": ".py",
   "mimetype": "text/x-python",
   "name": "python",
   "nbconvert_exporter": "python",
   "pygments_lexer": "ipython3",
   "version": "3.11.0"
  }
 },
 "nbformat": 4,
 "nbformat_minor": 2
}
